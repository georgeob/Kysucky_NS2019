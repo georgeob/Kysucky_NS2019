{
  "cells": [
    {
      "metadata": {
        "trusted": true
      },
      "cell_type": "code",
      "source": "# Importovanie knižníc \nimport numpy as np\nimport pandas as pd\nimport seaborn as sns\nimport matplotlib.pyplot as plt\nfrom sklearn.model_selection import train_test_split\nfrom sklearn.metrics import confusion_matrix\nfrom sklearn.preprocessing import LabelEncoder\nfrom sklearn.preprocessing import StandardScaler\nfrom sklearn.metrics import precision_recall_fscore_support",
      "execution_count": 9,
      "outputs": []
    },
    {
      "metadata": {
        "trusted": true
      },
      "cell_type": "code",
      "source": "# Načítanie csv súboru a následne aj jeho vypísanie \ndata = pd.read_csv('data.csv', index_col = None)\nprint('Rozmer súboru údajov : ', data.shape)\nprint(data.head())",
      "execution_count": 10,
      "outputs": [
        {
          "output_type": "stream",
          "text": "Rozmer súboru údajov :  (569, 33)\n         id diagnoza_tkaniv  priemer_vzdialenosti  standardna_odchylka  \\\n0    842302               M                 17.99                10.38   \n1    842517               M                 20.57                17.77   \n2  84300903               M                 19.69                21.25   \n3  84348301               M                 11.42                20.38   \n4  84358402               M                 20.29                14.34   \n\n   priemerna_velkost_nadoru  stredna_plocha  priemer_lokalnej_odchylky  \\\n0                    122.80          1001.0                    0.11840   \n1                    132.90          1326.0                    0.08474   \n2                    130.00          1203.0                    0.10960   \n3                     77.58           386.1                    0.14250   \n4                    135.10          1297.0                    0.10030   \n\n   stredna_kompaktnost  priemer_konkavnych_casti  pocet_konkavnych_casti  \\\n0              0.27760                    0.3001                 0.14710   \n1              0.07864                    0.0869                 0.07017   \n2              0.15990                    0.1974                 0.12790   \n3              0.28390                    0.2414                 0.10520   \n4              0.13280                    0.1980                 0.10430   \n\n      ...       najhorsia_vzdialenost  najhorsia_standardna_odchylka  \\\n0     ...                       17.33                         184.60   \n1     ...                       23.41                         158.80   \n2     ...                       25.53                         152.50   \n3     ...                       26.50                          98.87   \n4     ...                       16.67                         152.20   \n\n   najhorsia_velkost_nadoru  najhorsia_stredna_plocha  najhorsia_kompaktnost  \\\n0                    2019.0                    0.1622                 0.6656   \n1                    1956.0                    0.1238                 0.1866   \n2                    1709.0                    0.1444                 0.4245   \n3                     567.7                    0.2098                 0.8663   \n4                    1575.0                    0.1374                 0.2050   \n\n   najhorsie_konkavne_casti  najhorsi_pocet_konkavnych_casti  \\\n0                    0.7119                           0.2654   \n1                    0.2416                           0.1860   \n2                    0.4504                           0.2430   \n3                    0.6869                           0.2575   \n4                    0.4000                           0.1625   \n\n   najhorsia_symetria  najhorsia_fraktalna_dimenzia  Unnamed: 32  \n0              0.4601                       0.11890          NaN  \n1              0.2750                       0.08902          NaN  \n2              0.3613                       0.08758          NaN  \n3              0.6638                       0.17300          NaN  \n4              0.2364                       0.07678          NaN  \n\n[5 rows x 33 columns]\n",
          "name": "stdout"
        }
      ]
    },
    {
      "metadata": {
        "trusted": true
      },
      "cell_type": "code",
      "source": "# Odstránenie prázdneho stĺpca zo súboru údajov, pretože je zbytočný a nepoužiteľný\ndel data['Unnamed: 32']\n# Výpis vymazaných stlpcov\ndata.info() ",
      "execution_count": 11,
      "outputs": [
        {
          "output_type": "stream",
          "text": "<class 'pandas.core.frame.DataFrame'>\nRangeIndex: 569 entries, 0 to 568\nData columns (total 32 columns):\nid                                 569 non-null int64\ndiagnoza_tkaniv                    569 non-null object\npriemer_vzdialenosti               569 non-null float64\nstandardna_odchylka                569 non-null float64\npriemerna_velkost_nadoru           569 non-null float64\nstredna_plocha                     569 non-null float64\npriemer_lokalnej_odchylky          569 non-null float64\nstredna_kompaktnost                569 non-null float64\npriemer_konkavnych_casti           569 non-null float64\npocet_konkavnych_casti             569 non-null float64\nstredova_symetria                  569 non-null float64\npriemer_fraktalnej_dimenzie        569 non-null float64\npriemer_vzdialenosti_se            569 non-null float64\nstandardna_odchylka_se             569 non-null float64\npriemerna_velkost_nadoru_se        569 non-null float64\nstredna_plocha_se                  569 non-null float64\npriemer_lokalnej_odchylky_se       569 non-null float64\nstredna_kompaktnost.1              569 non-null float64\npriemer_konkavnych_casti.1         569 non-null float64\npocet_konkavnych_casti_se          569 non-null float64\nstredova_symetria_se               569 non-null float64\nfraktalna_dimenzia_se              569 non-null float64\nnajhorsia_diagnoza_tkaniv          569 non-null float64\nnajhorsia_vzdialenost              569 non-null float64\nnajhorsia_standardna_odchylka      569 non-null float64\nnajhorsia_velkost_nadoru           569 non-null float64\nnajhorsia_stredna_plocha           569 non-null float64\nnajhorsia_kompaktnost              569 non-null float64\nnajhorsie_konkavne_casti           569 non-null float64\nnajhorsi_pocet_konkavnych_casti    569 non-null float64\nnajhorsia_symetria                 569 non-null float64\nnajhorsia_fraktalna_dimenzia       569 non-null float64\ndtypes: float64(30), int64(1), object(1)\nmemory usage: 142.3+ KB\n",
          "name": "stdout"
        }
      ]
    },
    {
      "metadata": {
        "trusted": true
      },
      "cell_type": "code",
      "source": "# Oddelenie premenných funkcie a premennej triedy(cieľová premenná)\n# Jedna premenná služí na vykonávanie operácii, druha len na zobrazenie údajov\n# Cieľové údaje sú diagnóza, ktorá hovorí, či je nádor zhubný alebo benígny.\n\nX = data.iloc[:, 2:].values       # X bude reprezentovať vstupnú vrstvu, dáta, ktoré privádzame do siete.\nY = data.iloc[:, 1].values        # Y bude predstavovať cieľový výstup, ktorý zodpovedá vstupu X, výstup, ktorý by sme mali získať na konci siete, potom, čo vykoná svoje výpočty.\nprint(X)\nprint(\"\\n Výpis aktuálnej premennej : \", Y)",
      "execution_count": 12,
      "outputs": [
        {
          "output_type": "stream",
          "text": "[[1.799e+01 1.038e+01 1.228e+02 ... 2.654e-01 4.601e-01 1.189e-01]\n [2.057e+01 1.777e+01 1.329e+02 ... 1.860e-01 2.750e-01 8.902e-02]\n [1.969e+01 2.125e+01 1.300e+02 ... 2.430e-01 3.613e-01 8.758e-02]\n ...\n [1.660e+01 2.808e+01 1.083e+02 ... 1.418e-01 2.218e-01 7.820e-02]\n [2.060e+01 2.933e+01 1.401e+02 ... 2.650e-01 4.087e-01 1.240e-01]\n [7.760e+00 2.454e+01 4.792e+01 ... 0.000e+00 2.871e-01 7.039e-02]]\n\n Výpis aktuálnej premennej :  ['M' 'M' 'M' 'M' 'M' 'M' 'M' 'M' 'M' 'M' 'M' 'M' 'M' 'M' 'M' 'M' 'M' 'M'\n 'M' 'B' 'B' 'B' 'M' 'M' 'M' 'M' 'M' 'M' 'M' 'M' 'M' 'M' 'M' 'M' 'M' 'M'\n 'M' 'B' 'M' 'M' 'M' 'M' 'M' 'M' 'M' 'M' 'B' 'M' 'B' 'B' 'B' 'B' 'B' 'M'\n 'M' 'B' 'M' 'M' 'B' 'B' 'B' 'B' 'M' 'B' 'M' 'M' 'B' 'B' 'B' 'B' 'M' 'B'\n 'M' 'M' 'B' 'M' 'B' 'M' 'M' 'B' 'B' 'B' 'M' 'M' 'B' 'M' 'M' 'M' 'B' 'B'\n 'B' 'M' 'B' 'B' 'M' 'M' 'B' 'B' 'B' 'M' 'M' 'B' 'B' 'B' 'B' 'M' 'B' 'B'\n 'M' 'B' 'B' 'B' 'B' 'B' 'B' 'B' 'B' 'M' 'M' 'M' 'B' 'M' 'M' 'B' 'B' 'B'\n 'M' 'M' 'B' 'M' 'B' 'M' 'M' 'B' 'M' 'M' 'B' 'B' 'M' 'B' 'B' 'M' 'B' 'B'\n 'B' 'B' 'M' 'B' 'B' 'B' 'B' 'B' 'B' 'B' 'B' 'B' 'M' 'B' 'B' 'B' 'B' 'M'\n 'M' 'B' 'M' 'B' 'B' 'M' 'M' 'B' 'B' 'M' 'M' 'B' 'B' 'B' 'B' 'M' 'B' 'B'\n 'M' 'M' 'M' 'B' 'M' 'B' 'M' 'B' 'B' 'B' 'M' 'B' 'B' 'M' 'M' 'B' 'M' 'M'\n 'M' 'M' 'B' 'M' 'M' 'M' 'B' 'M' 'B' 'M' 'B' 'B' 'M' 'B' 'M' 'M' 'M' 'M'\n 'B' 'B' 'M' 'M' 'B' 'B' 'B' 'M' 'B' 'B' 'B' 'B' 'B' 'M' 'M' 'B' 'B' 'M'\n 'B' 'B' 'M' 'M' 'B' 'M' 'B' 'B' 'B' 'B' 'M' 'B' 'B' 'B' 'B' 'B' 'M' 'B'\n 'M' 'M' 'M' 'M' 'M' 'M' 'M' 'M' 'M' 'M' 'M' 'M' 'M' 'M' 'B' 'B' 'B' 'B'\n 'B' 'B' 'M' 'B' 'M' 'B' 'B' 'M' 'B' 'B' 'M' 'B' 'M' 'M' 'B' 'B' 'B' 'B'\n 'B' 'B' 'B' 'B' 'B' 'B' 'B' 'B' 'B' 'M' 'B' 'B' 'M' 'B' 'M' 'B' 'B' 'B'\n 'B' 'B' 'B' 'B' 'B' 'B' 'B' 'B' 'B' 'B' 'B' 'M' 'B' 'B' 'B' 'M' 'B' 'M'\n 'B' 'B' 'B' 'B' 'M' 'M' 'M' 'B' 'B' 'B' 'B' 'M' 'B' 'M' 'B' 'M' 'B' 'B'\n 'B' 'M' 'B' 'B' 'B' 'B' 'B' 'B' 'B' 'M' 'M' 'M' 'B' 'B' 'B' 'B' 'B' 'B'\n 'B' 'B' 'B' 'B' 'B' 'M' 'M' 'B' 'M' 'M' 'M' 'B' 'M' 'M' 'B' 'B' 'B' 'B'\n 'B' 'M' 'B' 'B' 'B' 'B' 'B' 'M' 'B' 'B' 'B' 'M' 'B' 'B' 'M' 'M' 'B' 'B'\n 'B' 'B' 'B' 'B' 'M' 'B' 'B' 'B' 'B' 'B' 'B' 'B' 'M' 'B' 'B' 'B' 'B' 'B'\n 'M' 'B' 'B' 'M' 'B' 'B' 'B' 'B' 'B' 'B' 'B' 'B' 'B' 'B' 'B' 'B' 'M' 'B'\n 'M' 'M' 'B' 'M' 'B' 'B' 'B' 'B' 'B' 'M' 'B' 'B' 'M' 'B' 'M' 'B' 'B' 'M'\n 'B' 'M' 'B' 'B' 'B' 'B' 'B' 'B' 'B' 'B' 'M' 'M' 'B' 'B' 'B' 'B' 'B' 'B'\n 'M' 'B' 'B' 'B' 'B' 'B' 'B' 'B' 'B' 'B' 'B' 'M' 'B' 'B' 'B' 'B' 'B' 'B'\n 'B' 'M' 'B' 'M' 'B' 'B' 'M' 'B' 'B' 'B' 'B' 'B' 'M' 'M' 'B' 'M' 'B' 'M'\n 'B' 'B' 'B' 'B' 'B' 'M' 'B' 'B' 'M' 'B' 'M' 'B' 'M' 'M' 'B' 'B' 'B' 'M'\n 'B' 'B' 'B' 'B' 'B' 'B' 'B' 'B' 'B' 'B' 'B' 'M' 'B' 'M' 'M' 'B' 'B' 'B'\n 'B' 'B' 'B' 'B' 'B' 'B' 'B' 'B' 'B' 'B' 'B' 'B' 'B' 'B' 'B' 'B' 'B' 'B'\n 'B' 'B' 'B' 'B' 'M' 'M' 'M' 'M' 'M' 'M' 'B']\n",
          "name": "stdout"
        }
      ]
    },
    {
      "metadata": {
        "trusted": true
      },
      "cell_type": "code",
      "source": "# Kódovanie triedy, premenej Y, ktorá obsahuje dáta M a B, do binárnej sústavy 1 a 0, je to z dôvodu takého, že stroj vie pracovať len s 1 a 0\nencoder = LabelEncoder()\nY = encoder.fit_transform(Y)\nprint('Po kodovani : ', Y)",
      "execution_count": 13,
      "outputs": [
        {
          "output_type": "stream",
          "text": "Po kodovani :  [1 1 1 1 1 1 1 1 1 1 1 1 1 1 1 1 1 1 1 0 0 0 1 1 1 1 1 1 1 1 1 1 1 1 1 1 1\n 0 1 1 1 1 1 1 1 1 0 1 0 0 0 0 0 1 1 0 1 1 0 0 0 0 1 0 1 1 0 0 0 0 1 0 1 1\n 0 1 0 1 1 0 0 0 1 1 0 1 1 1 0 0 0 1 0 0 1 1 0 0 0 1 1 0 0 0 0 1 0 0 1 0 0\n 0 0 0 0 0 0 1 1 1 0 1 1 0 0 0 1 1 0 1 0 1 1 0 1 1 0 0 1 0 0 1 0 0 0 0 1 0\n 0 0 0 0 0 0 0 0 1 0 0 0 0 1 1 0 1 0 0 1 1 0 0 1 1 0 0 0 0 1 0 0 1 1 1 0 1\n 0 1 0 0 0 1 0 0 1 1 0 1 1 1 1 0 1 1 1 0 1 0 1 0 0 1 0 1 1 1 1 0 0 1 1 0 0\n 0 1 0 0 0 0 0 1 1 0 0 1 0 0 1 1 0 1 0 0 0 0 1 0 0 0 0 0 1 0 1 1 1 1 1 1 1\n 1 1 1 1 1 1 1 0 0 0 0 0 0 1 0 1 0 0 1 0 0 1 0 1 1 0 0 0 0 0 0 0 0 0 0 0 0\n 0 1 0 0 1 0 1 0 0 0 0 0 0 0 0 0 0 0 0 0 0 1 0 0 0 1 0 1 0 0 0 0 1 1 1 0 0\n 0 0 1 0 1 0 1 0 0 0 1 0 0 0 0 0 0 0 1 1 1 0 0 0 0 0 0 0 0 0 0 0 1 1 0 1 1\n 1 0 1 1 0 0 0 0 0 1 0 0 0 0 0 1 0 0 0 1 0 0 1 1 0 0 0 0 0 0 1 0 0 0 0 0 0\n 0 1 0 0 0 0 0 1 0 0 1 0 0 0 0 0 0 0 0 0 0 0 0 1 0 1 1 0 1 0 0 0 0 0 1 0 0\n 1 0 1 0 0 1 0 1 0 0 0 0 0 0 0 0 1 1 0 0 0 0 0 0 1 0 0 0 0 0 0 0 0 0 0 1 0\n 0 0 0 0 0 0 1 0 1 0 0 1 0 0 0 0 0 1 1 0 1 0 1 0 0 0 0 0 1 0 0 1 0 1 0 1 1\n 0 0 0 1 0 0 0 0 0 0 0 0 0 0 0 1 0 1 1 0 0 0 0 0 0 0 0 0 0 0 0 0 0 0 0 0 0\n 0 0 0 0 0 0 0 1 1 1 1 1 1 0]\n",
          "name": "stdout"
        }
      ]
    },
    {
      "metadata": {
        "trusted": true
      },
      "cell_type": "code",
      "source": "# Ďalej sa údaje rozdelia na dve sady, tzn. Tréningové a testovacie súbory.\n# Dôvodom rozdelenia údajov na tréningové a testovacie súbory je, že nemôžeme trénovať model na celých údajoch, pretože to povedie k preplneniu. To znamená, že model bude dobre fungovať na tréningových dátach a zlyhá na nových neviditeľných dátach (t.j. chyba tréningu je nízka a testovacia chyba je vysoká).\nX_train, X_test, Y_train, Y_test = train_test_split(X, Y, test_size=0.3, random_state= 0)\n\n#Výpis premenných X\nprint(X_train)\nprint(X_test)\n\n",
      "execution_count": 14,
      "outputs": [
        {
          "output_type": "stream",
          "text": "[[1.149e+01 1.459e+01 7.399e+01 ... 7.431e-02 2.941e-01 9.180e-02]\n [1.049e+01 1.861e+01 6.686e+01 ... 6.528e-02 2.213e-01 7.842e-02]\n [1.225e+01 1.794e+01 7.827e+01 ... 8.211e-02 3.113e-01 8.132e-02]\n ...\n [9.436e+00 1.832e+01 5.982e+01 ... 5.052e-02 2.454e-01 8.136e-02]\n [9.720e+00 1.822e+01 6.073e+01 ... 0.000e+00 1.909e-01 6.559e-02]\n [1.151e+01 2.393e+01 7.452e+01 ... 9.653e-02 2.112e-01 8.732e-02]]\n[[1.340e+01 2.052e+01 8.864e+01 ... 2.051e-01 3.585e-01 1.109e-01]\n [1.321e+01 2.525e+01 8.410e+01 ... 6.005e-02 2.444e-01 6.788e-02]\n [1.402e+01 1.566e+01 8.959e+01 ... 8.216e-02 2.136e-01 6.710e-02]\n ...\n [1.371e+01 1.868e+01 8.873e+01 ... 1.284e-01 2.849e-01 9.031e-02]\n [1.330e+01 2.157e+01 8.524e+01 ... 5.614e-02 2.637e-01 6.658e-02]\n [9.333e+00 2.194e+01 5.901e+01 ... 2.564e-02 2.435e-01 7.393e-02]]\n",
          "name": "stdout"
        }
      ]
    },
    {
      "metadata": {
        "trusted": true
      },
      "cell_type": "code",
      "source": "# Zmena mierky našich trénovacích údajov  (škálovanie funkcií)\n# Každá funkcia v našom súbore údajov bude mať strednú hodnotu = 0 a štandardnú odchýlku = 1\n#  Je to preto, aby všetky hodnoty boli zmenšené tak, aby sa nachádzali v rovnakom rozsahu. Uľahčuje to náš model predvídať a vykonávať rýchlejšie.\n\nsc = StandardScaler()\nX_train = sc.fit_transform(X_train)\nX_test = sc.fit_transform(X_test)\n\n#Výpis premenných X\nprint(X_train)\nprint(X_test)\n",
      "execution_count": 15,
      "outputs": [
        {
          "output_type": "stream",
          "text": "[[-0.74998027 -1.09978744 -0.74158608 ... -0.6235968   0.07754241\n   0.45062841]\n [-1.02821446 -0.1392617  -1.02980434 ... -0.7612376  -1.07145262\n  -0.29541379]\n [-0.53852228 -0.29934933 -0.56857428 ... -0.50470441  0.34900827\n  -0.13371556]\n ...\n [-1.3214733  -0.20855336 -1.3143845  ... -0.98621857 -0.69108476\n  -0.13148524]\n [-1.24245479 -0.23244704 -1.27759928 ... -1.7562754  -1.55125275\n  -1.01078909]\n [-0.74441558  1.13188181 -0.72016173 ... -0.28490593 -1.2308599\n   0.20083251]]\n[[-0.17715788  0.22140254 -0.10696857 ...  1.39677786  1.14404645\n   1.44477141]\n [-0.23403396  1.26339611 -0.30309994 ... -0.80720664 -0.82315205\n  -0.90738698]\n [ 0.00843776 -0.84922934 -0.06592787 ... -0.47125285 -1.35417496\n  -0.9500342 ]\n ...\n [-0.08436006 -0.18393957 -0.10308051 ...  0.23134793 -0.12489141\n   0.31899407]\n [-0.20709266  0.45271189 -0.2538511  ... -0.86661774 -0.49040068\n  -0.97846568]\n [-1.39460537  0.53422091 -1.38700657 ... -1.33005467 -0.83866895\n  -0.57659762]]\n",
          "name": "stdout"
        }
      ]
    },
    {
      "metadata": {
        "trusted": true,
        "scrolled": true
      },
      "cell_type": "code",
      "source": "# Vytvorenie neuronovej siete\nprint(Y[:,None].shape[1])\n\nclass NeuralNetwork: #počet funkcií = počtu vstupných uzlov,  30 prvkov 30 uzlov\n    def __init__(self, X, Y, X_test, Y_test, hidden_nodes=12, learninig_rate=0.1, epochs=5000):\n        # naše dáta\n#hidden_notes - počet uzlov v našej skrytej vrstve\n#learning_rate - rýchlosť učenie, nastavili sme si ju na nízku hodnotu, je to pomalšie, ale spoľahlivejšie \n# Epocha opisuje, koľkokrát algoritmus vidí celý súbor údajov. Takže zakaždým, keď algoritmus videl všetky vzorky v datasete, epocha je dokončená.\n# Jednoducho definuje, koľkokrát sa náš model vyškolí na našom súbore údajov.\n        self.X = X\n        self.Y = Y[:, None]\n        self.X_test = X_test\n        self.Y_test = Y_test\n\n        # definovanie parametrov\n\n        np.random.seed(4)\n        self.input_nodes = len(X[0])     # počet funkcií v tréningových údajoch\n        self.hidden_nodes = hidden_nodes\n        self.output_npdes = self.Y.shape[1]\n        self.learning_rate = learninig_rate\n\n        # inicializáciu váh pre našu sieť\n        #V tomto kroku aplikujeme váhy vrstvy pre zodpovedajúce vstupné uzly. Je to násobenie vstupu a hmotnosti vrstvy.\n        #Generovanie je náhodné, používame dve sady váh, jedna ide zo vstupu do skrytej vrsty, druhá zo skrytej do výstupu\n        self.w1 = 2 * np.random.random((self.input_nodes, self.hidden_nodes)) - 1  #  12x0  Weight matrix from input to hidden layer\n        self.w2 = 2 * np.random.random((self.hidden_nodes, self.output_npdes)) - 1 # 12x0 weight matrix from hidden to output layer\n\n        self.train(epochs)  # Vzhľadom k tomu, že musíme veľakrát trénovať náš model, prejdeme epochami\n        self.test()\n    # medzi vstupnými a skrytými vrstvami\n    # Definovanie aktivačnej funkcie, využíva sa Sigmoid aktivačná funkcia, kvôli tomu, že sa zaoberame binárnou klasifikáciou\n    def sigmoid(self, X):\n        return (1 / (1 + np.exp(-X)))\n    # Tu sa vypočíta derivácia aktuálnej vrstvy pomocou funkcie sigmoidPrime\n    def sigmoid_prime(self, X):\n        return X * (1 - X)\n    \n    #trénovanie \n    def train(self, epochs):\n\n        for e in range(epochs):\n            # FORWARDPROPAGATION\n            l1 = self.sigmoid(np.dot(self.X, self.w1))\n            # medzi skrytým a výstupom\n            l2 = self.sigmoid(np.dot(l1, self.w2))\n\n            # BACKPROPAGATION\n            # Chyba siete (skutočná hodnota - predpokladaná hodnota), Vypočítame rozdiel medzi skutočnou hodnotou a predpokladanou hodnotou.\n\n            error = self.Y - l2\n\n            # Chyba pre každú z vrstiev\n            # Nájdeme chybu vo vrstve pomocou derivácie aktuálnej vrstvy vynásobenej chybou predchádzajúcej vrstvy.\n\n            l2_delta = error * self.sigmoid_prime(l2)\n            l1_delta = l2_delta.dot(self.w2.T) * self.sigmoid_prime(l1)\n\n            self.w2 = np.add(self.w2, l1.T.dot(l2_delta) * self.learning_rate)\n            self.w1 = np.add(self.w1, self.X.T.dot(l1_delta) * self.learning_rate)\n\n        print('Chybovosť : ', (abs(error)).mean())\n        \n  # testovanie a vyhodnotenie\n # Takže tu otestujeme výkonnosť modelu tým, že prejdeme cez inú vzorku, ktorá nie je súčasťou tréningových dát nazývaných aj testovací súbor.\n#Táto testovacia množina sa používa na testovanie výkonu modelu pri zovšeobecňovaní neviditeľných údajov a počtu správnych predpovedí vykonaných porovnaním so skutočnými štítkami triedy.\n\n    def test(self):\n        correct = 0\n        pred_list = []\n        l1 = self.sigmoid(np.dot(self.X_test, self.w1))\n        l2 = self.sigmoid(np.dot(l1, self.w2))\n\n        for i in range(len(l2)):\n            if l2[i] >= 0.5:\n                pred = 1\n            else:\n                pred = 0\n\n            if pred == self.Y_test[i]:\n                correct += 1\n\n            pred_list.append(pred)\n\n        print('Presnosť testu : ', ((correct / len(Y_test)) * 100), '%')\n\n\n\n        precision, recall,fscore, support =  precision_recall_fscore_support(Y_test, pred_list, average=None)\n        print('------------------------------------')\n         #V tejto časti robíme výpisi, resp. výstup programu\n        tn, fp, fn, tp = confusion_matrix(Y_test, pred_list).ravel()\n        print('Skutočne negatívny', tn) # žiadný známy zhubný nádor, alebo prednádorové ložisko nebolo zistené \n        print('Falošne pozitívný', fp) # zhubný nádor, alebo prednádorové ložisko neboli zistené behom daného obdobia\n        print('Falošne negatívny', fn) # zhubný nádor, alebo prednádorové ložisko sú zistené behom daného obdobia\n        print('Skutočne pozitívny', tp) # zhubný nádor bol zistený po abnormálnom výsledku \n\n        total = tn + tp + fn + fp\n        print('Presnosť testu : ', (tn + tp)/total)\n        print('Miera nesprávneho ohodnotenia : ', (fn + fp)/total)\n        print('Presnosť : ', precision)\n        print('recall : ', recall)\n        print('FScore : ', fscore)\n        print('Podpora : ', support)\n        print('Sensitivity or TPR : ', (tp/ (tp + fn)) )\n        print('Specificity or TNR : ', (tn/(tn+fp)))\n        print('False Positive Rate or Fallout : ', (fp/(fp+tn)))\n        print('False Negative Rate : ', (fn/(fn+tp)))\n        print('False Discovery Rate : ', (fp/(tp+fp)))\n      \n          \n        cm = confusion_matrix(Y_test, pred_list)\n        sns.heatmap(cm, annot=True)\n        plt.savefig('h.png')\n        plt.show()\n\n\nnn = NeuralNetwork(X_train, Y_train, X_test, Y_test)\n\n       ",
      "execution_count": 23,
      "outputs": [
        {
          "output_type": "stream",
          "text": "1\nChybovosť :  0.0038812214102433634\nPresnosť testu :  95.90643274853801 %\n------------------------------------\nSkutočne negatívny 102\nFalošne pozitívný 6\nFalošne negatívny 1\nSkutočne pozitívny 62\nPresnosť testu :  0.9590643274853801\nMiera nesprávneho ohodnotenia :  0.04093567251461988\nPresnosť :  [0.99029126 0.91176471]\nrecall :  [0.94444444 0.98412698]\nFScore :  [0.96682464 0.94656489]\nPodpora :  [108  63]\nSensitivity or TPR :  0.9841269841269841\nSpecificity or TNR :  0.9444444444444444\nFalse Positive Rate or Fallout :  0.05555555555555555\nFalse Negative Rate :  0.015873015873015872\nFalse Discovery Rate :  0.08823529411764706\n",
          "name": "stdout"
        },
        {
          "output_type": "display_data",
          "data": {
            "image/png": "[encoded data removed]",
            "text/plain": "<Figure size 432x288 with 2 Axes>"
          },
          "metadata": {
            "needs_background": "light"
          }
        }
      ]
    }
  ],
  "metadata": {
    "kernelspec": {
      "name": "python36",
      "display_name": "Python 3.6",
      "language": "python"
    },
    "language_info": {
      "mimetype": "text/x-python",
      "nbconvert_exporter": "python",
      "name": "python",
      "pygments_lexer": "ipython3",
      "version": "3.6.6",
      "file_extension": ".py",
      "codemirror_mode": {
        "version": 3,
        "name": "ipython"
      }
    }
  },
  "nbformat": 4,
  "nbformat_minor": 2
}